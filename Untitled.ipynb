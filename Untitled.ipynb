{
  "nbformat": 4,
  "nbformat_minor": 0,
  "metadata": {
    "colab": {
      "name": "Untitled.ipynb",
      "version": "0.3.2",
      "provenance": []
    },
    "kernelspec": {
      "display_name": "Python 3",
      "language": "python",
      "name": "python3"
    }
  },
  "cells": [
    {
      "metadata": {
        "lines_to_next_cell": 2,
        "id": "6HmnZRZDxxhQ",
        "colab_type": "code",
        "colab": {
          "base_uri": "https://localhost:8080/",
          "height": 34
        },
        "outputId": "1b2e74df-af9a-46dc-cfa5-70f60f3b5cf4"
      },
      "cell_type": "code",
      "source": [
        "print('yoyo')"
      ],
      "execution_count": 2,
      "outputs": [
        {
          "output_type": "stream",
          "text": [
            "yoyo\n"
          ],
          "name": "stdout"
        }
      ]
    },
    {
      "metadata": {
        "id": "riJqrAw4xxhY",
        "colab_type": "code",
        "colab": {
          "base_uri": "https://localhost:8080/",
          "height": 34
        },
        "outputId": "b37f1968-90d7-4875-fdd8-e0b65ed7cea4"
      },
      "cell_type": "code",
      "source": [
        "print('Level1')"
      ],
      "execution_count": 3,
      "outputs": [
        {
          "output_type": "stream",
          "text": [
            "Level1\n"
          ],
          "name": "stdout"
        }
      ]
    },
    {
      "metadata": {
        "id": "C4Czx0dSxxhc",
        "colab_type": "code",
        "colab": {
          "base_uri": "https://localhost:8080/",
          "height": 34
        },
        "outputId": "3bc63fb4-bf56-464e-c1ca-ce9fab2875f4"
      },
      "cell_type": "code",
      "source": [
        "print('Mafia mundheer')"
      ],
      "execution_count": 4,
      "outputs": [
        {
          "output_type": "stream",
          "text": [
            "Mafia mundheer\n"
          ],
          "name": "stdout"
        }
      ]
    },
    {
      "metadata": {
        "id": "L9hwqBY-xxhg",
        "colab_type": "code",
        "colab": {
          "base_uri": "https://localhost:8080/",
          "height": 34
        },
        "outputId": "05b88a34-8223-476c-f8e3-1f21b00d5fe2"
      },
      "cell_type": "code",
      "source": [
        "print('Hell yeah')"
      ],
      "execution_count": 5,
      "outputs": [
        {
          "output_type": "stream",
          "text": [
            "Hell yeah\n"
          ],
          "name": "stdout"
        }
      ]
    }
  ]
}